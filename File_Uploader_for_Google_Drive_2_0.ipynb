{
  "cells": [
    {
      "cell_type": "markdown",
      "metadata": {
        "id": "view-in-github",
        "colab_type": "text"
      },
      "source": [
        "<a href=\"https://colab.research.google.com/github/akhi07rx/File-Uploader-for-Google-Drive-2.0/blob/main/File_Uploader_for_Google_Drive_2_0.ipynb\" target=\"_parent\"><img src=\"https://colab.research.google.com/assets/colab-badge.svg\" alt=\"Open In Colab\"/></a>"
      ]
    },
    {
      "cell_type": "markdown",
      "source": [
        "# Cell 1: Import libraries and mount Google Drive"
      ],
      "metadata": {
        "id": "cvikMd1eqkWW"
      }
    },
    {
      "cell_type": "code",
      "source": [
        "from tqdm import tqdm\n",
        "import requests\n",
        "from google.colab import drive\n",
        "import os\n",
        "from urllib.parse import urlparse, unquote\n",
        "import os.path\n",
        "import sys\n",
        "import time\n",
        "\n",
        "drive.mount('/content/drive')\n"
      ],
      "metadata": {
        "colab": {
          "base_uri": "https://localhost:8080/"
        },
        "id": "cBUExT25lbuX",
        "outputId": "8afded1e-b538-4147-dfe5-1f52e95786c1"
      },
      "execution_count": null,
      "outputs": [
        {
          "output_type": "stream",
          "name": "stdout",
          "text": [
            "Mounted at /content/drive\n"
          ]
        }
      ]
    },
    {
      "cell_type": "markdown",
      "source": [
        "# Cell 2: Define destination folder and create it if it doesn't exist\n"
      ],
      "metadata": {
        "id": "qtCD7-Ijqpxr"
      }
    },
    {
      "cell_type": "code",
      "source": [
        "# Define the destination folder in Google Drive\n",
        "destination_folder = '/content/drive/MyDrive/Downloads/'\n",
        "\n",
        "# Create the destination folder if it doesn't exist\n",
        "if not os.path.exists(destination_folder):\n",
        "    os.makedirs(destination_folder)\n"
      ],
      "metadata": {
        "id": "84CiCkwUlmqq"
      },
      "execution_count": null,
      "outputs": []
    },
    {
      "cell_type": "markdown",
      "source": [
        "# Cell 3: Download file function\n"
      ],
      "metadata": {
        "id": "thWKhAyrqvrq"
      }
    },
    {
      "cell_type": "code",
      "source": [
        "def download_file(url):\n",
        "    try:\n",
        "        response = requests.get(url, stream=True)\n",
        "        response.raise_for_status()\n",
        "    except requests.exceptions.MissingSchema:\n",
        "        print(\"You have entered a wrong command. Please enter again.\\n\")\n",
        "        return\n",
        "\n",
        "    file_size = int(response.headers.get('content-length', 0))\n",
        "\n",
        "    file_size_mb = file_size / (1024 ** 2)\n",
        "    file_size_gb = file_size / (1024 ** 3)\n",
        "\n",
        "    file_size_str = f\"{file_size_mb:.2f} MB / {file_size_gb:.2f} GB\"\n",
        "\n",
        "    progress_bar = tqdm(total=file_size, unit='B', unit_scale=True, leave=True)\n",
        "\n",
        "    parsed_url = urlparse(url)\n",
        "    file_name = unquote(os.path.basename(parsed_url.path))\n",
        "\n",
        "    file_path = os.path.join(destination_folder, file_name)\n",
        "\n",
        "    start_time = time.time()\n",
        "\n",
        "    with open(file_path, 'wb') as file:\n",
        "        for chunk in response.iter_content(chunk_size=8192):\n",
        "            if chunk:\n",
        "                file.write(chunk)\n",
        "                progress_bar.update(len(chunk))\n",
        "                sys.stdout.flush()\n",
        "\n",
        "    progress_bar.close()\n",
        "\n",
        "    end_time = time.time()\n",
        "    total_time = end_time - start_time\n",
        "\n",
        "    print()\n",
        "    print(f\"File name: {file_name}\")\n",
        "    print(f\"File size: {file_size_str}\")\n",
        "    print(f\"Total Time: {total_time:.2f} seconds\")\n",
        "    print(f\"Saved location: {file_path}\")\n",
        "    print(f\"File '{file_name}' uploaded successfully to '{destination_folder}'.\\n\")\n"
      ],
      "metadata": {
        "id": "ZJqs4g7MloIl"
      },
      "execution_count": null,
      "outputs": []
    },
    {
      "cell_type": "markdown",
      "source": [
        "# Cell 4: Initialize download queue and add download links\n",
        "\n"
      ],
      "metadata": {
        "id": "EhK4LgBBrCWH"
      }
    },
    {
      "cell_type": "code",
      "source": [
        "download_queue = []\n",
        "\n",
        "while True:\n",
        "    user_input = input(\"\\n\\nEnter the download link (or 'exit' to quit): \")\n",
        "\n",
        "    if user_input.lower() == 'exit':\n",
        "        break\n",
        "\n",
        "    download_queue.append(user_input)\n",
        "\n",
        "    if len(download_queue) > 1:\n",
        "        print(\"Added to queue. The file will be downloaded after the current file.\")\n"
      ],
      "metadata": {
        "colab": {
          "base_uri": "https://localhost:8080/"
        },
        "id": "uA_fTyj0lplf",
        "outputId": "d4d7d15a-7092-407b-d538-c8810d1b1734"
      },
      "execution_count": null,
      "outputs": [
        {
          "name": "stdout",
          "output_type": "stream",
          "text": [
            "\n",
            "\n",
            "Enter the download link (or 'exit' to quit): https://de13.seedr.cc/ff_get/1536687676/John.Wick.Chapter.3.-.Parabellum.2019.720p.WEBRip.x264-[YTS.LT].mp4?st=c0C6J3XctMcaSkW5okmurg&e=1685730045\n",
            "\n",
            "\n",
            "Enter the download link (or 'exit' to quit): exit\n"
          ]
        }
      ]
    },
    {
      "cell_type": "markdown",
      "source": [
        "# Cell 5: Start downloading files from the queue\n",
        "\n"
      ],
      "metadata": {
        "id": "srsdK-RYrJKo"
      }
    },
    {
      "cell_type": "code",
      "source": [
        "while len(download_queue) > 0:\n",
        "    current_url = download_queue.pop(0)\n",
        "    download_file(current_url)\n"
      ],
      "metadata": {
        "colab": {
          "base_uri": "https://localhost:8080/"
        },
        "id": "RdestLdqlr6F",
        "outputId": "284ffd72-367f-4058-8410-028efbd8d6fd"
      },
      "execution_count": null,
      "outputs": [
        {
          "output_type": "stream",
          "name": "stderr",
          "text": [
            "100%|██████████| 1.20G/1.20G [01:36<00:00, 12.5MB/s]"
          ]
        },
        {
          "output_type": "stream",
          "name": "stdout",
          "text": [
            "\n",
            "File name: John.Wick.Chapter.3.-.Parabellum.2019.720p.WEBRip.x264-[YTS.LT].mp4\n",
            "File size: 1148.88 MB / 1.12 GB\n",
            "Total Time: 96.48 seconds\n",
            "Saved location: /content/drive/MyDrive/Downloads/John.Wick.Chapter.3.-.Parabellum.2019.720p.WEBRip.x264-[YTS.LT].mp4\n",
            "File 'John.Wick.Chapter.3.-.Parabellum.2019.720p.WEBRip.x264-[YTS.LT].mp4' uploaded successfully to '/content/drive/MyDrive/Downloads/'.\n",
            "\n"
          ]
        },
        {
          "output_type": "stream",
          "name": "stderr",
          "text": [
            "\n"
          ]
        }
      ]
    }
  ],
  "metadata": {
    "colab": {
      "provenance": [],
      "include_colab_link": true
    },
    "kernelspec": {
      "display_name": "Python 3",
      "name": "python3"
    },
    "language_info": {
      "name": "python"
    }
  },
  "nbformat": 4,
  "nbformat_minor": 0
}